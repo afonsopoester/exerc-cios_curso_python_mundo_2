{
  "nbformat": 4,
  "nbformat_minor": 0,
  "metadata": {
    "colab": {
      "provenance": [],
      "authorship_tag": "ABX9TyN5lqPJF5h6sW3KGz+jvjBd",
      "include_colab_link": true
    },
    "kernelspec": {
      "name": "python3",
      "display_name": "Python 3"
    },
    "language_info": {
      "name": "python"
    }
  },
  "cells": [
    {
      "cell_type": "markdown",
      "metadata": {
        "id": "view-in-github",
        "colab_type": "text"
      },
      "source": [
        "<a href=\"https://colab.research.google.com/github/afonsopoester/exerc-cios_curso_python_mundo_2/blob/main/refazendo_curso_em_video_2.ipynb\" target=\"_parent\"><img src=\"https://colab.research.google.com/assets/colab-badge.svg\" alt=\"Open In Colab\"/></a>"
      ]
    },
    {
      "cell_type": "code",
      "execution_count": null,
      "metadata": {
        "id": "2cg-P2jpWjcj"
      },
      "outputs": [],
      "source": [
        "##CONDIÇÕES IF ELIF ELSE"
      ]
    },
    {
      "cell_type": "code",
      "source": [
        "nome = str(input(\"Qual o seu nome? \"))\n",
        "if nome == \"João\":\n",
        "  print(\"Que nome lindo!\")\n",
        "elif nome in \"Pedro Maria\":\n",
        "  print(\"Seu nome é bem comum no brasil\")\n",
        "else:\n",
        "  print(\"Seu nome é comum\")\n",
        "print(\"Bom dia {}\".format(nome))"
      ],
      "metadata": {
        "colab": {
          "base_uri": "https://localhost:8080/"
        },
        "id": "GSeTm7AHmDUc",
        "outputId": "466a16d2-7919-4d9d-92c7-e17a133737f9"
      },
      "execution_count": null,
      "outputs": [
        {
          "output_type": "stream",
          "name": "stdout",
          "text": [
            "Qual o seu nome? jefferson\n",
            "Seu nome é comum\n",
            "Bom dia jefferson\n"
          ]
        }
      ]
    },
    {
      "cell_type": "code",
      "source": [
        "val =  float(input(\"Qual o valor da casa? \"))\n",
        "sal = float(input(\"Qual o seu salário? R$\"))\n",
        "anos = int(input(\"Em quantos anos você pretende pagar? \"))\n",
        "\n",
        "prest =  val/(anos * 12)\n",
        "if sal * 0.3 > prest:\n",
        "  print(\"Empréstimo aprovado, a prestação será de {} reais, menos que 30% do seu salário\".format(prest))\n",
        "else:\n",
        "  print(\"Empréstimo negado! A prestação será de {} reais, mais que 30% do seu salário\".format(prest))"
      ],
      "metadata": {
        "colab": {
          "base_uri": "https://localhost:8080/"
        },
        "id": "y4vwJ3orcrDG",
        "outputId": "fe814a9d-c12f-4d60-eb91-227fc24d047d"
      },
      "execution_count": null,
      "outputs": [
        {
          "output_type": "stream",
          "name": "stdout",
          "text": [
            "Qual o valor da casa? 120000\n",
            "Qual o seu salário? R$5000\n",
            "Em quantos anos você pretende pagar? 10\n",
            "Empréstimo aprovado, a prestação será de 1000.0 reais, menos que 30% do seu salário\n"
          ]
        }
      ]
    },
    {
      "cell_type": "code",
      "source": [
        "n = int(input(\"Me diga um número: \"))\n",
        "conv = int(input(\"Me diga para que base quer que eu converta: (1 - binário; 2 - octal; 3 - hexadecimal: \"))\n",
        "\n",
        "if conv == 1:\n",
        "  print(\"O número {} em binário é {}\".format(n, bin(n)[2:]))\n",
        "elif conv == 2:\n",
        "  print(\"O número {} em octal é {}\".format(n, oct(n)[2:]))\n",
        "elif conv == 3:\n",
        "  print(\"O número {} em hexadecimal é {}\".format(n, hex(n)[2:]))\n",
        "else:\n",
        "  print(\"Opção inválida\")"
      ],
      "metadata": {
        "id": "Ghdl03Idc9GL",
        "colab": {
          "base_uri": "https://localhost:8080/"
        },
        "outputId": "70017eda-24ef-4fac-8922-949d5216e2f4"
      },
      "execution_count": null,
      "outputs": [
        {
          "output_type": "stream",
          "name": "stdout",
          "text": [
            "Me diga um número: 834\n",
            "Me diga para que base quer que eu converta: (1 - binário; 2 - octal; 3 - hexadecimal: 3\n",
            "O número 834 em hexadecimal é 342\n"
          ]
        }
      ]
    },
    {
      "cell_type": "code",
      "source": [
        "n1 = float(input(\"Digite o primeiro número: \"))\n",
        "n2 = float(input(\"Digite o segundo número: \"))\n",
        "\n",
        "if n1 > n2:\n",
        "  print(\"O primeiro número é maior\")\n",
        "elif n2 > n1:\n",
        "  print(\"O segundo número é maior\")\n",
        "elif n1 == n2:\n",
        "  print(\"Os dois valores são iguais\")\n"
      ],
      "metadata": {
        "colab": {
          "base_uri": "https://localhost:8080/"
        },
        "id": "_aXrB83pTdJr",
        "outputId": "32d91970-bb30-4b54-dd09-be0981c326f6"
      },
      "execution_count": null,
      "outputs": [
        {
          "output_type": "stream",
          "name": "stdout",
          "text": [
            "Digite o primeiro número: 2\n",
            "Digite o segundo número: 2\n",
            "Os dois valores são iguais\n"
          ]
        }
      ]
    },
    {
      "cell_type": "code",
      "source": [
        "from datetime import date\n",
        "\n",
        "ano_nasc = int(input(\"Digite o ano que você nasceu: \"))\n",
        "ano_atual = date.today().year\n",
        "idade = ano_atual - ano_nasc\n",
        "\n",
        "if idade == 18:\n",
        "  print(\"Você completa 18 anos em {}, aliste-se imediatamente\".format(ano_atual))\n",
        "elif idade > 18:\n",
        "  print(\"Você tem {} anos em {} e se alistou em {}\".format(idade, ano_atual, ano_nasc+18))\n",
        "elif idade < 18:\n",
        "  print(\"Você tem {} anos em {} e irá se alistar no ano {}\".format(idade, ano_atual, ano_nasc+18))"
      ],
      "metadata": {
        "colab": {
          "base_uri": "https://localhost:8080/"
        },
        "id": "C25KC4SKUbiD",
        "outputId": "a767cd18-2d04-401a-cb6c-dd3b42407b9e"
      },
      "execution_count": null,
      "outputs": [
        {
          "output_type": "stream",
          "name": "stdout",
          "text": [
            "Digite o ano que você nasceu: 2007\n",
            "Você tem 16 anos em 2023 e irá se alistar no ano 2025\n"
          ]
        }
      ]
    },
    {
      "cell_type": "code",
      "source": [
        "n1 = float(input(\"Digite a primeira nota: \"))\n",
        "n2 = float(input(\"Digite a segunda nota: \"))\n",
        "m = (n1+n2)/2\n",
        "\n",
        "if m >= 7:\n",
        "  print(f\"Você está com média {m} e está aprovado\")\n",
        "elif 7 > m >= 5:\n",
        "  print(f\"Você está com média {m} e está em recuperação\")\n",
        "elif m < 5:\n",
        "  print(f\"Você está com média {m} e está reprovado\")\n",
        "\n"
      ],
      "metadata": {
        "colab": {
          "base_uri": "https://localhost:8080/"
        },
        "id": "KyFoMyRjFUkN",
        "outputId": "3fd8c0c0-5aed-4b10-f4fa-141ad5b7c821"
      },
      "execution_count": null,
      "outputs": [
        {
          "output_type": "stream",
          "name": "stdout",
          "text": [
            "Digite a primeira nota: 5\n",
            "Digite a segunda nota: 5\n",
            "Você está com média 5.0 e está em recuperação\n"
          ]
        }
      ]
    },
    {
      "cell_type": "code",
      "source": [
        "from datetime import date\n",
        "ano_nasc = int(input(\"Digite o ano de nascimento: \"))\n",
        "ano_atual = date.today().year\n",
        "idade = ano_atual - ano_nasc\n",
        "\n",
        "if idade <= 9:\n",
        "  print(f\"O atleta tem {idade} anos e está na categoria MIRIM\")\n",
        "elif idade <= 14:\n",
        "  print(f\"O atleta tem {idade} anos e está na categoria INFANTIL\")\n",
        "elif idade <= 19:\n",
        "  print(f\"O atleta tem {idade} anos e está na categoria JUNIOR\")\n",
        "elif idade <= 25:\n",
        "  print(f\"O atleta tem {idade} anos e está na categoria SENIOR\")\n",
        "elif idade > 25:\n",
        "  print(f\"O atleta tem {idade} anos e está na categoria MASTER\")"
      ],
      "metadata": {
        "colab": {
          "base_uri": "https://localhost:8080/"
        },
        "id": "yzF26QV_M-A_",
        "outputId": "86eaad4e-e544-4033-efb3-624afc3027ab"
      },
      "execution_count": null,
      "outputs": [
        {
          "output_type": "stream",
          "name": "stdout",
          "text": [
            "Digite o ano de nascimento: 2004\n",
            "O atleta tem 19 anos e está na categoria JUNIOR\n"
          ]
        }
      ]
    },
    {
      "cell_type": "code",
      "source": [
        "s1 = float(input(\"Digite o tamanho do segmento 1: \"))\n",
        "s2 = float(input(\"Digite o tamanho do segmento 2: \"))\n",
        "s3 = float(input(\"Digite o tamanho do segmento 3: \"))\n",
        "\n",
        "if s1 < s1 + s2 and s2 < s1 + s3 and s3 < s1 + s2:\n",
        "  print(\"Os segmentos podem formar um triângulo\")\n",
        "  if s1 == s2 == s3:\n",
        "    print(\"Forma um triângulo equilátero\")\n",
        "  elif s1 != s2 != s3:\n",
        "    print(\"Forma um triângulo escaleno\")\n",
        "  else:\n",
        "    print(\"Forma um triângulo isóceles\")\n",
        "else:\n",
        "  print(\"Os segmentos não podem formar um triângulo\")\n",
        "\n"
      ],
      "metadata": {
        "colab": {
          "base_uri": "https://localhost:8080/"
        },
        "id": "ojhSF8kxvmVN",
        "outputId": "0f678f9f-d82f-44b9-e8fe-fa82a354889f"
      },
      "execution_count": 4,
      "outputs": [
        {
          "output_type": "stream",
          "name": "stdout",
          "text": [
            "Digite o tamanho do segmento 1: 3\n",
            "Digite o tamanho do segmento 2: 3\n",
            "Digite o tamanho do segmento 3: 1\n",
            "Os segmentos podem formar um triângulo\n",
            "Forma um triângulo isóceles\n"
          ]
        }
      ]
    },
    {
      "cell_type": "code",
      "source": [
        "peso = float(input(\"Digite seu peso: \"))\n",
        "altura = float(input(\"Digite sua altura: \"))\n",
        "imc = peso / (altura ** 2)\n",
        "\n",
        "if imc < 18.5:\n",
        "  print(f\"IMC de {imc}, abaixo do peso\")\n",
        "elif 18.5 <= imc < 25:\n",
        "  print(f\"IMC de {imc}, peso ideal\")\n",
        "elif 25 <= imc < 30:\n",
        "  print(f\"IMC de {imc}, sobrepeso\")\n",
        "elif 18.5 <= imc < 25:\n",
        "  print(f\"IMC de {imc}, obesidade\")\n",
        "\n",
        "\n"
      ],
      "metadata": {
        "id": "ovfP8fhTxUsI"
      },
      "execution_count": null,
      "outputs": []
    },
    {
      "cell_type": "code",
      "source": [
        "#REPETIÇÕES COM FOR"
      ],
      "metadata": {
        "id": "Ynm6_puamDpK"
      },
      "execution_count": null,
      "outputs": []
    },
    {
      "cell_type": "code",
      "source": [],
      "metadata": {
        "id": "ewdQkDEamFbE"
      },
      "execution_count": null,
      "outputs": []
    },
    {
      "cell_type": "code",
      "source": [
        "#REPETIÇÕES COM WHILE"
      ],
      "metadata": {
        "id": "c0FupgZUmFfy"
      },
      "execution_count": null,
      "outputs": []
    }
  ]
}